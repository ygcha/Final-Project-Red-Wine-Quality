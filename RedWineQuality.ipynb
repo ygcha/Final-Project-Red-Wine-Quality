{
 "cells": [
  {
   "cell_type": "markdown",
   "id": "054410ed-b4f3-47da-9a7d-2fe17f293087",
   "metadata": {},
   "source": [
    "# Prediciting the Quality of Red Wine\n",
    "DH150: Jul 27th 2022\n",
    "<br>\n",
    "Christina Cha"
   ]
  },
  {
   "cell_type": "markdown",
   "id": "625281bb-dfcd-427e-a5f7-ffad47d5f889",
   "metadata": {},
   "source": [
    "## Report Agenda\n",
    "<b>1</b> | Introduction\n",
    "<br>\n",
    "<b>2</b> | Understanding the Data\n",
    "<br>\n",
    "<b>3</b> | Modeling <i>(Logistic Regression, Random Forest, k Nearest Neighbors)</i>\n",
    "<br>\n",
    "<b>4</b> | Understanding Prior Works\n",
    "<br>\n",
    "<b>5</b> | Results & Comparison\n",
    "<br>\n",
    "<b>6</b> | Conclusion"
   ]
  },
  {
   "cell_type": "markdown",
   "id": "f6328671-ab63-4be1-96d8-b59e21993f8f",
   "metadata": {},
   "source": [
    "## Introduction"
   ]
  },
  {
   "cell_type": "markdown",
   "id": "e94ca291-a401-4ae8-945f-51acf0538fa8",
   "metadata": {},
   "source": [
    "Wine experts utilize taste and perception of the wine to determine wine quality. However, it is undeniable that the components of the wine itself as well as the methods used to produce the wine play a significant role in determining how the wine tastes and, ultimately, the level of quality achieved by the wine. This research will focus on utilizing machine learning to forecast the quality of red wine based on the various features that are present in the wine. "
   ]
  },
  {
   "cell_type": "markdown",
   "id": "1cfdb801-0677-4657-b9e7-4a8946139f8f",
   "metadata": {},
   "source": [
    "## Understanding the Data"
   ]
  },
  {
   "cell_type": "markdown",
   "id": "b03d8efa-bfd8-4583-a0c7-50c13fd0920a",
   "metadata": {
    "tags": []
   },
   "source": [
    "#### Data Introduction\n",
    "For this project, I will be using the <a href=\"http://archive.ics.uci.edu/ml/datasets/Wine+Quality\">Red Wine Quality Data Set</a> from UCI Machine Learning Repository. The dataset is related to red variants of the Portuguese \"Vinho Verde\" wine. The dataset is comprised of a total of 12 variables, each of which was documented for each of the 1,599 observations. Out of the 12, the 11 input variables based on physicochemical tests include To see which variables are likely to affect the quality of red wine the most, I ran a correlation analysis of our independent variables against our dependent variable, quality. This analysis ended up with a list of variables of interest that had the highest correlations with quality. Through this dataset, we will be able to develop a variety of regression models to investigate the extent to which a variety of independent factors contribute to the prediction of our output variable based on sensory data, quality. "
   ]
  },
  {
   "cell_type": "code",
   "execution_count": 1,
   "id": "cfaf9e5c-254a-4e57-bcb6-c13dcfc70905",
   "metadata": {},
   "outputs": [
    {
     "ename": "FileNotFoundError",
     "evalue": "[Errno 2] No such file or directory: 'winequality-red.csv'",
     "output_type": "error",
     "traceback": [
      "\u001b[0;31m---------------------------------------------------------------------------\u001b[0m",
      "\u001b[0;31mFileNotFoundError\u001b[0m                         Traceback (most recent call last)",
      "\u001b[0;32m/tmp/ipykernel_1937/3542911807.py\u001b[0m in \u001b[0;36m<module>\u001b[0;34m\u001b[0m\n\u001b[1;32m      2\u001b[0m \u001b[0;34m\u001b[0m\u001b[0m\n\u001b[1;32m      3\u001b[0m \u001b[0;31m# Import Red Wine Quality Data\u001b[0m\u001b[0;34m\u001b[0m\u001b[0;34m\u001b[0m\u001b[0;34m\u001b[0m\u001b[0m\n\u001b[0;32m----> 4\u001b[0;31m \u001b[0mdf\u001b[0m \u001b[0;34m=\u001b[0m \u001b[0mpd\u001b[0m\u001b[0;34m.\u001b[0m\u001b[0mread_csv\u001b[0m\u001b[0;34m(\u001b[0m\u001b[0;34m\"winequality-red.csv\"\u001b[0m\u001b[0;34m)\u001b[0m\u001b[0;34m\u001b[0m\u001b[0;34m\u001b[0m\u001b[0m\n\u001b[0m\u001b[1;32m      5\u001b[0m \u001b[0mdf\u001b[0m\u001b[0;34m\u001b[0m\u001b[0;34m\u001b[0m\u001b[0m\n",
      "\u001b[0;32m/opt/conda/lib/python3.9/site-packages/pandas/util/_decorators.py\u001b[0m in \u001b[0;36mwrapper\u001b[0;34m(*args, **kwargs)\u001b[0m\n\u001b[1;32m    309\u001b[0m                     \u001b[0mstacklevel\u001b[0m\u001b[0;34m=\u001b[0m\u001b[0mstacklevel\u001b[0m\u001b[0;34m,\u001b[0m\u001b[0;34m\u001b[0m\u001b[0;34m\u001b[0m\u001b[0m\n\u001b[1;32m    310\u001b[0m                 )\n\u001b[0;32m--> 311\u001b[0;31m             \u001b[0;32mreturn\u001b[0m \u001b[0mfunc\u001b[0m\u001b[0;34m(\u001b[0m\u001b[0;34m*\u001b[0m\u001b[0margs\u001b[0m\u001b[0;34m,\u001b[0m \u001b[0;34m**\u001b[0m\u001b[0mkwargs\u001b[0m\u001b[0;34m)\u001b[0m\u001b[0;34m\u001b[0m\u001b[0;34m\u001b[0m\u001b[0m\n\u001b[0m\u001b[1;32m    312\u001b[0m \u001b[0;34m\u001b[0m\u001b[0m\n\u001b[1;32m    313\u001b[0m         \u001b[0;32mreturn\u001b[0m \u001b[0mwrapper\u001b[0m\u001b[0;34m\u001b[0m\u001b[0;34m\u001b[0m\u001b[0m\n",
      "\u001b[0;32m/opt/conda/lib/python3.9/site-packages/pandas/io/parsers/readers.py\u001b[0m in \u001b[0;36mread_csv\u001b[0;34m(filepath_or_buffer, sep, delimiter, header, names, index_col, usecols, squeeze, prefix, mangle_dupe_cols, dtype, engine, converters, true_values, false_values, skipinitialspace, skiprows, skipfooter, nrows, na_values, keep_default_na, na_filter, verbose, skip_blank_lines, parse_dates, infer_datetime_format, keep_date_col, date_parser, dayfirst, cache_dates, iterator, chunksize, compression, thousands, decimal, lineterminator, quotechar, quoting, doublequote, escapechar, comment, encoding, encoding_errors, dialect, error_bad_lines, warn_bad_lines, on_bad_lines, delim_whitespace, low_memory, memory_map, float_precision, storage_options)\u001b[0m\n\u001b[1;32m    584\u001b[0m     \u001b[0mkwds\u001b[0m\u001b[0;34m.\u001b[0m\u001b[0mupdate\u001b[0m\u001b[0;34m(\u001b[0m\u001b[0mkwds_defaults\u001b[0m\u001b[0;34m)\u001b[0m\u001b[0;34m\u001b[0m\u001b[0;34m\u001b[0m\u001b[0m\n\u001b[1;32m    585\u001b[0m \u001b[0;34m\u001b[0m\u001b[0m\n\u001b[0;32m--> 586\u001b[0;31m     \u001b[0;32mreturn\u001b[0m \u001b[0m_read\u001b[0m\u001b[0;34m(\u001b[0m\u001b[0mfilepath_or_buffer\u001b[0m\u001b[0;34m,\u001b[0m \u001b[0mkwds\u001b[0m\u001b[0;34m)\u001b[0m\u001b[0;34m\u001b[0m\u001b[0;34m\u001b[0m\u001b[0m\n\u001b[0m\u001b[1;32m    587\u001b[0m \u001b[0;34m\u001b[0m\u001b[0m\n\u001b[1;32m    588\u001b[0m \u001b[0;34m\u001b[0m\u001b[0m\n",
      "\u001b[0;32m/opt/conda/lib/python3.9/site-packages/pandas/io/parsers/readers.py\u001b[0m in \u001b[0;36m_read\u001b[0;34m(filepath_or_buffer, kwds)\u001b[0m\n\u001b[1;32m    480\u001b[0m \u001b[0;34m\u001b[0m\u001b[0m\n\u001b[1;32m    481\u001b[0m     \u001b[0;31m# Create the parser.\u001b[0m\u001b[0;34m\u001b[0m\u001b[0;34m\u001b[0m\u001b[0;34m\u001b[0m\u001b[0m\n\u001b[0;32m--> 482\u001b[0;31m     \u001b[0mparser\u001b[0m \u001b[0;34m=\u001b[0m \u001b[0mTextFileReader\u001b[0m\u001b[0;34m(\u001b[0m\u001b[0mfilepath_or_buffer\u001b[0m\u001b[0;34m,\u001b[0m \u001b[0;34m**\u001b[0m\u001b[0mkwds\u001b[0m\u001b[0;34m)\u001b[0m\u001b[0;34m\u001b[0m\u001b[0;34m\u001b[0m\u001b[0m\n\u001b[0m\u001b[1;32m    483\u001b[0m \u001b[0;34m\u001b[0m\u001b[0m\n\u001b[1;32m    484\u001b[0m     \u001b[0;32mif\u001b[0m \u001b[0mchunksize\u001b[0m \u001b[0;32mor\u001b[0m \u001b[0miterator\u001b[0m\u001b[0;34m:\u001b[0m\u001b[0;34m\u001b[0m\u001b[0;34m\u001b[0m\u001b[0m\n",
      "\u001b[0;32m/opt/conda/lib/python3.9/site-packages/pandas/io/parsers/readers.py\u001b[0m in \u001b[0;36m__init__\u001b[0;34m(self, f, engine, **kwds)\u001b[0m\n\u001b[1;32m    809\u001b[0m             \u001b[0mself\u001b[0m\u001b[0;34m.\u001b[0m\u001b[0moptions\u001b[0m\u001b[0;34m[\u001b[0m\u001b[0;34m\"has_index_names\"\u001b[0m\u001b[0;34m]\u001b[0m \u001b[0;34m=\u001b[0m \u001b[0mkwds\u001b[0m\u001b[0;34m[\u001b[0m\u001b[0;34m\"has_index_names\"\u001b[0m\u001b[0;34m]\u001b[0m\u001b[0;34m\u001b[0m\u001b[0;34m\u001b[0m\u001b[0m\n\u001b[1;32m    810\u001b[0m \u001b[0;34m\u001b[0m\u001b[0m\n\u001b[0;32m--> 811\u001b[0;31m         \u001b[0mself\u001b[0m\u001b[0;34m.\u001b[0m\u001b[0m_engine\u001b[0m \u001b[0;34m=\u001b[0m \u001b[0mself\u001b[0m\u001b[0;34m.\u001b[0m\u001b[0m_make_engine\u001b[0m\u001b[0;34m(\u001b[0m\u001b[0mself\u001b[0m\u001b[0;34m.\u001b[0m\u001b[0mengine\u001b[0m\u001b[0;34m)\u001b[0m\u001b[0;34m\u001b[0m\u001b[0;34m\u001b[0m\u001b[0m\n\u001b[0m\u001b[1;32m    812\u001b[0m \u001b[0;34m\u001b[0m\u001b[0m\n\u001b[1;32m    813\u001b[0m     \u001b[0;32mdef\u001b[0m \u001b[0mclose\u001b[0m\u001b[0;34m(\u001b[0m\u001b[0mself\u001b[0m\u001b[0;34m)\u001b[0m\u001b[0;34m:\u001b[0m\u001b[0;34m\u001b[0m\u001b[0;34m\u001b[0m\u001b[0m\n",
      "\u001b[0;32m/opt/conda/lib/python3.9/site-packages/pandas/io/parsers/readers.py\u001b[0m in \u001b[0;36m_make_engine\u001b[0;34m(self, engine)\u001b[0m\n\u001b[1;32m   1038\u001b[0m             )\n\u001b[1;32m   1039\u001b[0m         \u001b[0;31m# error: Too many arguments for \"ParserBase\"\u001b[0m\u001b[0;34m\u001b[0m\u001b[0;34m\u001b[0m\u001b[0;34m\u001b[0m\u001b[0m\n\u001b[0;32m-> 1040\u001b[0;31m         \u001b[0;32mreturn\u001b[0m \u001b[0mmapping\u001b[0m\u001b[0;34m[\u001b[0m\u001b[0mengine\u001b[0m\u001b[0;34m]\u001b[0m\u001b[0;34m(\u001b[0m\u001b[0mself\u001b[0m\u001b[0;34m.\u001b[0m\u001b[0mf\u001b[0m\u001b[0;34m,\u001b[0m \u001b[0;34m**\u001b[0m\u001b[0mself\u001b[0m\u001b[0;34m.\u001b[0m\u001b[0moptions\u001b[0m\u001b[0;34m)\u001b[0m  \u001b[0;31m# type: ignore[call-arg]\u001b[0m\u001b[0;34m\u001b[0m\u001b[0;34m\u001b[0m\u001b[0m\n\u001b[0m\u001b[1;32m   1041\u001b[0m \u001b[0;34m\u001b[0m\u001b[0m\n\u001b[1;32m   1042\u001b[0m     \u001b[0;32mdef\u001b[0m \u001b[0m_failover_to_python\u001b[0m\u001b[0;34m(\u001b[0m\u001b[0mself\u001b[0m\u001b[0;34m)\u001b[0m\u001b[0;34m:\u001b[0m\u001b[0;34m\u001b[0m\u001b[0;34m\u001b[0m\u001b[0m\n",
      "\u001b[0;32m/opt/conda/lib/python3.9/site-packages/pandas/io/parsers/c_parser_wrapper.py\u001b[0m in \u001b[0;36m__init__\u001b[0;34m(self, src, **kwds)\u001b[0m\n\u001b[1;32m     49\u001b[0m \u001b[0;34m\u001b[0m\u001b[0m\n\u001b[1;32m     50\u001b[0m         \u001b[0;31m# open handles\u001b[0m\u001b[0;34m\u001b[0m\u001b[0;34m\u001b[0m\u001b[0;34m\u001b[0m\u001b[0m\n\u001b[0;32m---> 51\u001b[0;31m         \u001b[0mself\u001b[0m\u001b[0;34m.\u001b[0m\u001b[0m_open_handles\u001b[0m\u001b[0;34m(\u001b[0m\u001b[0msrc\u001b[0m\u001b[0;34m,\u001b[0m \u001b[0mkwds\u001b[0m\u001b[0;34m)\u001b[0m\u001b[0;34m\u001b[0m\u001b[0;34m\u001b[0m\u001b[0m\n\u001b[0m\u001b[1;32m     52\u001b[0m         \u001b[0;32massert\u001b[0m \u001b[0mself\u001b[0m\u001b[0;34m.\u001b[0m\u001b[0mhandles\u001b[0m \u001b[0;32mis\u001b[0m \u001b[0;32mnot\u001b[0m \u001b[0;32mNone\u001b[0m\u001b[0;34m\u001b[0m\u001b[0;34m\u001b[0m\u001b[0m\n\u001b[1;32m     53\u001b[0m \u001b[0;34m\u001b[0m\u001b[0m\n",
      "\u001b[0;32m/opt/conda/lib/python3.9/site-packages/pandas/io/parsers/base_parser.py\u001b[0m in \u001b[0;36m_open_handles\u001b[0;34m(self, src, kwds)\u001b[0m\n\u001b[1;32m    220\u001b[0m         \u001b[0mLet\u001b[0m \u001b[0mthe\u001b[0m \u001b[0mreaders\u001b[0m \u001b[0mopen\u001b[0m \u001b[0mIOHandles\u001b[0m \u001b[0mafter\u001b[0m \u001b[0mthey\u001b[0m \u001b[0mare\u001b[0m \u001b[0mdone\u001b[0m \u001b[0;32mwith\u001b[0m \u001b[0mtheir\u001b[0m \u001b[0mpotential\u001b[0m \u001b[0mraises\u001b[0m\u001b[0;34m.\u001b[0m\u001b[0;34m\u001b[0m\u001b[0;34m\u001b[0m\u001b[0m\n\u001b[1;32m    221\u001b[0m         \"\"\"\n\u001b[0;32m--> 222\u001b[0;31m         self.handles = get_handle(\n\u001b[0m\u001b[1;32m    223\u001b[0m             \u001b[0msrc\u001b[0m\u001b[0;34m,\u001b[0m\u001b[0;34m\u001b[0m\u001b[0;34m\u001b[0m\u001b[0m\n\u001b[1;32m    224\u001b[0m             \u001b[0;34m\"r\"\u001b[0m\u001b[0;34m,\u001b[0m\u001b[0;34m\u001b[0m\u001b[0;34m\u001b[0m\u001b[0m\n",
      "\u001b[0;32m/opt/conda/lib/python3.9/site-packages/pandas/io/common.py\u001b[0m in \u001b[0;36mget_handle\u001b[0;34m(path_or_buf, mode, encoding, compression, memory_map, is_text, errors, storage_options)\u001b[0m\n\u001b[1;32m    700\u001b[0m         \u001b[0;32mif\u001b[0m \u001b[0mioargs\u001b[0m\u001b[0;34m.\u001b[0m\u001b[0mencoding\u001b[0m \u001b[0;32mand\u001b[0m \u001b[0;34m\"b\"\u001b[0m \u001b[0;32mnot\u001b[0m \u001b[0;32min\u001b[0m \u001b[0mioargs\u001b[0m\u001b[0;34m.\u001b[0m\u001b[0mmode\u001b[0m\u001b[0;34m:\u001b[0m\u001b[0;34m\u001b[0m\u001b[0;34m\u001b[0m\u001b[0m\n\u001b[1;32m    701\u001b[0m             \u001b[0;31m# Encoding\u001b[0m\u001b[0;34m\u001b[0m\u001b[0;34m\u001b[0m\u001b[0;34m\u001b[0m\u001b[0m\n\u001b[0;32m--> 702\u001b[0;31m             handle = open(\n\u001b[0m\u001b[1;32m    703\u001b[0m                 \u001b[0mhandle\u001b[0m\u001b[0;34m,\u001b[0m\u001b[0;34m\u001b[0m\u001b[0;34m\u001b[0m\u001b[0m\n\u001b[1;32m    704\u001b[0m                 \u001b[0mioargs\u001b[0m\u001b[0;34m.\u001b[0m\u001b[0mmode\u001b[0m\u001b[0;34m,\u001b[0m\u001b[0;34m\u001b[0m\u001b[0;34m\u001b[0m\u001b[0m\n",
      "\u001b[0;31mFileNotFoundError\u001b[0m: [Errno 2] No such file or directory: 'winequality-red.csv'"
     ]
    }
   ],
   "source": [
    "import pandas as pd\n",
    "\n",
    "# Import Red Wine Quality Data\n",
    "df = pd.read_csv(\"winequality-red.csv\")\n",
    "df"
   ]
  },
  {
   "cell_type": "code",
   "execution_count": null,
   "id": "3fe004be-391f-49ab-9c9b-0bb06543e066",
   "metadata": {},
   "outputs": [],
   "source": [
    "#Count, Mean, STD, Min~Max\n",
    "df.describe()"
   ]
  },
  {
   "cell_type": "code",
   "execution_count": null,
   "id": "8e1774d6-55d1-4116-bd21-9db546566486",
   "metadata": {},
   "outputs": [],
   "source": [
    "df.columns"
   ]
  },
  {
   "cell_type": "code",
   "execution_count": null,
   "id": "dbee6c0d-81ac-4625-9102-3e085f5a37fe",
   "metadata": {},
   "outputs": [],
   "source": [
    "df.index"
   ]
  },
  {
   "cell_type": "code",
   "execution_count": null,
   "id": "11fa2b6c-9d9b-4980-b42d-e347362ff617",
   "metadata": {},
   "outputs": [],
   "source": [
    "df.shape"
   ]
  },
  {
   "cell_type": "markdown",
   "id": "735e3f31-7616-425a-bbb0-b4bbbfcffb74",
   "metadata": {
    "tags": []
   },
   "source": [
    "#### Data Breakdown\n",
    "In order to find which attribute had the greatest impact on on the quality of red wine, I conducted a correlation test of the input variables against the output variable. I did the correlation test using a heat map and a function that selects highly correlated features."
   ]
  },
  {
   "cell_type": "code",
   "execution_count": null,
   "id": "08c6d746-7110-424c-ba3d-e7dbf8b61e00",
   "metadata": {},
   "outputs": [],
   "source": [
    "import matplotlib\n",
    "import matplotlib.pyplot as plt\n",
    "import seaborn as sns\n",
    "\n",
    "# Heat Map\n",
    "plt.figure(figsize=(12,10))\n",
    "cor = df.corr()\n",
    "sns.heatmap(cor, annot=True, cmap=plt.cm.Blues)\n",
    "plt.show()"
   ]
  },
  {
   "cell_type": "code",
   "execution_count": null,
   "id": "54bcf7f1-6830-4a15-95ee-67263c8cf8d4",
   "metadata": {},
   "outputs": [],
   "source": [
    "#Correlation with output variable\n",
    "cor_target = abs(cor[\"quality\"])\n",
    "\n",
    "#Selecting highly correlated features\n",
    "relevant_features = cor_target[cor_target>0.2]\n",
    "relevant_features"
   ]
  },
  {
   "cell_type": "markdown",
   "id": "f6b1a914-ca10-4e7d-b309-12212b70d2ca",
   "metadata": {},
   "source": [
    "<b>Based on the heat map and function, the attribute with the highest correlation with quality is as follows:</b>\n",
    "<br>\n",
    "<i>1 = highest correlation ... 10 = lowest correlation</i>\n",
    "1. <b>Alcohol:</b> the percent alcohol content of the wine\n",
    "2. <b>Volatile Acidity:</b> the amount of acetic acid in wine, which at too high of levels can lead to an unpleasant, vinegar taste\n",
    "3. <b>Sulphates:</b> a wine additive which can contribute to sulfur dioxide gas (S02) levels\n",
    "4. <b>Citric Acid:</b> found in small quantities, citric acid can add 'freshness' and flavor to wines\n",
    "5. <b>Total Sulfur Dioxide:</b> amount of free and bound forms of S02\n",
    "6. <b>Density:</b> the density of water is close to that of water depending on the percent alcohol and sugar content\n",
    "7. <b>Chlorides:</b> the amount of salt in the wine\n",
    "8. <b>Fixed acidity:</b> most acids involved with wine or fixed or nonvolatile (do not evaporate readily)\n",
    "9. <b>pH:</b> describes how acidic or basic a wine is on a scale from 0 (very acidic) to 14 (very basic); most wines are between 3-4\n",
    "10. <b>Free Sulfur Dioxide:</b> the free form of SO2 exists in equilibrium between molecular SO2 (as a dissolved gas) and bisulfite ion\n",
    "11. <b>Residual Sugar:</b> the amount of sugar remaining after fermentation stops"
   ]
  },
  {
   "cell_type": "markdown",
   "id": "337641a2-d926-47a5-a1d8-dc173dc64ee5",
   "metadata": {},
   "source": [
    "<b>Plots</b>\n",
    "<br>\n",
    "In addition to the correlation, I wanted to further see the specific relationship of each attribute against the \"quality\" variable. I created both density and box plots for all 11 attributes to understand the data distribution. "
   ]
  },
  {
   "cell_type": "code",
   "execution_count": null,
   "id": "5f65129d-704e-4273-bce1-9e15ac35a578",
   "metadata": {},
   "outputs": [],
   "source": [
    "# Box Plots\n",
    "fig = plt.figure(figsize=[15,12])\n",
    "cols = df.columns\n",
    "cnt = 1\n",
    "for col in cols:\n",
    "    plt.subplot(4,3,cnt)\n",
    "    sns.boxplot(x=\"quality\", y=col, data=df, palette=\"Blues\")\n",
    "    cnt = cnt+1\n",
    "plt.tight_layout()\n",
    "plt.show()"
   ]
  },
  {
   "cell_type": "markdown",
   "id": "1456cfcc-b8ba-4eaa-844c-acd683ea2d1e",
   "metadata": {
    "tags": []
   },
   "source": [
    "<b>Box Plot Analysis</b>\n",
    "<br>\n",
    "Based on the box plots, we can conclude that red wines that are higher quality have higher levels of alcohol, sulphates, and citric acid. On the other hand, red wines that are lower quality have high volatile acidity, density, and pH. Finally, attributes such as residual sugar, total sulfur dioxide, free sulfur dioxide, and chlorides have no effect or significant relationship with the quality of red wine.  "
   ]
  },
  {
   "cell_type": "code",
   "execution_count": null,
   "id": "7d961ffd-6415-45c2-84f3-90b63116242d",
   "metadata": {},
   "outputs": [],
   "source": [
    "# Density Plots\n",
    "fig = plt.figure(figsize=[15,12])\n",
    "cols = df.columns\n",
    "cnt = 1\n",
    "\n",
    "for col in cols:\n",
    "    plt.subplot(4,3,cnt)\n",
    "    sns.kdeplot(df[col], color=\"red\")\n",
    "    cnt+=1\n",
    "plt.tight_layout()\n",
    "plt.show()"
   ]
  },
  {
   "cell_type": "markdown",
   "id": "0b1871e7-fc2f-49fa-8890-43aeb439e926",
   "metadata": {
    "tags": []
   },
   "source": [
    "<b>Density Plot Analysis</b>\n",
    "- The pH level is constantly between 3 and 4 \n",
    "- Chloride level stays around 0.08-0.1\n",
    "- The most common ratings for wine quality is either 5 or 6. "
   ]
  },
  {
   "cell_type": "markdown",
   "id": "050b908f-8cfc-4bd8-83ef-1c927eedca97",
   "metadata": {
    "tags": []
   },
   "source": [
    "## Modeling"
   ]
  },
  {
   "cell_type": "markdown",
   "id": "da27bb1c-3e81-461e-a914-6ef85578adf7",
   "metadata": {},
   "source": [
    "In this section, I will be creating "
   ]
  },
  {
   "cell_type": "code",
   "execution_count": null,
   "id": "864ac17d-5882-4c25-8756-410346533722",
   "metadata": {},
   "outputs": [],
   "source": [
    "# Classifying the quality of wine in to two classes: low and high\n",
    "# Quality score between 3 and 6 = 0 (low quality wine)\n",
    "# Quality score between 7 and 8 = 1 (high quality wine)        \n",
    "\n",
    "df['quality'] = df['quality'].replace([3, 4, 5, 6], 0)\n",
    "df['quality'] = df['quality'].replace([7, 8], 1)\n",
    "df.head()"
   ]
  },
  {
   "cell_type": "code",
   "execution_count": null,
   "id": "9f4b5b8d-149c-43a9-94ee-fcff9564232d",
   "metadata": {},
   "outputs": [],
   "source": [
    "# Number of wines per class\n",
    "df['quality'].value_counts()"
   ]
  },
  {
   "cell_type": "markdown",
   "id": "58d44f38-4e22-4df0-8dcd-defd744ea4e8",
   "metadata": {},
   "source": [
    "#### Train and Test Data Split"
   ]
  },
  {
   "cell_type": "code",
   "execution_count": null,
   "id": "e2c06fb9-2e73-4c2c-a810-f96dda016510",
   "metadata": {},
   "outputs": [],
   "source": [
    "from sklearn.model_selection import train_test_split\n",
    "from sklearn.ensemble import RandomForestClassifier\n",
    "from sklearn.linear_model import LogisticRegression\n",
    "from sklearn.neighbors import KNeighborsClassifier\n",
    "from sklearn.metrics import classification_report, confusion_matrix, f1_score, accuracy_score, recall_score, mean_squared_error\n",
    "from sklearn import metrics"
   ]
  },
  {
   "cell_type": "code",
   "execution_count": null,
   "id": "3e536e9f-20b3-4f25-8cd2-5ce75ded8906",
   "metadata": {},
   "outputs": [],
   "source": [
    "# Array\n",
    "x = df.drop(['quality'], axis=1)\n",
    "y = df['quality'] "
   ]
  },
  {
   "cell_type": "code",
   "execution_count": null,
   "id": "04a1050d-edc6-4a34-a9b8-fe471529cc77",
   "metadata": {},
   "outputs": [],
   "source": [
    "# Split, Train, Test\n",
    "x_train, x_test, y_train, y_test = train_test_split(x, y, test_size=0.3, random_state=42) "
   ]
  },
  {
   "cell_type": "markdown",
   "id": "40e4f960-9b11-416d-b395-cfe690e9da01",
   "metadata": {
    "tags": []
   },
   "source": [
    "### Logistic Regression Model"
   ]
  },
  {
   "cell_type": "code",
   "execution_count": null,
   "id": "147868bc-61ab-455f-b557-85466ee56cba",
   "metadata": {},
   "outputs": [],
   "source": [
    "# Model Object\n",
    "model1 = LogisticRegression(max_iter=4000)"
   ]
  },
  {
   "cell_type": "code",
   "execution_count": null,
   "id": "55fc1a21-89e7-4165-b6b8-9718bd04d182",
   "metadata": {},
   "outputs": [],
   "source": [
    "# Train the model\n",
    "model1.fit(x_train,y_train)"
   ]
  },
  {
   "cell_type": "code",
   "execution_count": null,
   "id": "d151515f-bc02-442a-beb7-142052518150",
   "metadata": {},
   "outputs": [],
   "source": [
    "# Prediction on Test\n",
    "y_pred1=model1.predict(x_test)"
   ]
  },
  {
   "cell_type": "code",
   "execution_count": null,
   "id": "601b168e-7f27-4218-986e-3e684d3bbfac",
   "metadata": {},
   "outputs": [],
   "source": [
    "# Classification Report\n",
    "print(\"Classification Report:\", classification_report(y_test, y_pred1))"
   ]
  },
  {
   "cell_type": "code",
   "execution_count": null,
   "id": "27c08b3d-b13f-4829-8821-f93265cfc77b",
   "metadata": {},
   "outputs": [],
   "source": [
    "# Confusion Metrics\n",
    "print(\"Confusion Metrics:\", confusion_matrix(y_test, y_pred1))"
   ]
  },
  {
   "cell_type": "code",
   "execution_count": null,
   "id": "5a434439-9a5f-456a-b951-a30d4836805a",
   "metadata": {},
   "outputs": [],
   "source": [
    "# Recall & Precision\n",
    "print(\"Recall:\", metrics.recall_score(y_test, y_pred1, average=\"micro\"))\n",
    "print(\"Precision Score:\", metrics.precision_score(y_test, y_pred1, average=\"micro\"))"
   ]
  },
  {
   "cell_type": "code",
   "execution_count": null,
   "id": "c59322b1-fca9-4037-8552-62a09d6d5f72",
   "metadata": {},
   "outputs": [],
   "source": [
    "# Calculate the Accuracy Score.\n",
    "lr = accuracy_score(y_test, y_pred1)\n",
    "print(lr)"
   ]
  },
  {
   "cell_type": "markdown",
   "id": "60633129-9106-4154-8dae-fc31a53c4f57",
   "metadata": {
    "tags": []
   },
   "source": [
    "### Random Forest"
   ]
  },
  {
   "cell_type": "code",
   "execution_count": null,
   "id": "77ad0c16-d51b-40c9-bac0-80a42f6f2ecd",
   "metadata": {},
   "outputs": [],
   "source": [
    "# Model Object\n",
    "model2=RandomForestClassifier(n_estimators=100)"
   ]
  },
  {
   "cell_type": "code",
   "execution_count": null,
   "id": "4742ac9e-e622-4b7b-a633-bcc8ab620bf6",
   "metadata": {},
   "outputs": [],
   "source": [
    "# Train the model\n",
    "model2.fit(x_train,y_train)"
   ]
  },
  {
   "cell_type": "code",
   "execution_count": null,
   "id": "2faf59e0-9fd0-4d5f-b982-bae6f1e58dc0",
   "metadata": {},
   "outputs": [],
   "source": [
    "# Prediction on Test\n",
    "y_pred2=model2.predict(x_test)"
   ]
  },
  {
   "cell_type": "code",
   "execution_count": null,
   "id": "1f48f28f-eddc-4ae6-8317-da62a99062b1",
   "metadata": {},
   "outputs": [],
   "source": [
    "# Classification Report\n",
    "print(\"Classification Report:\", classification_report(y_test, y_pred2))"
   ]
  },
  {
   "cell_type": "code",
   "execution_count": null,
   "id": "43c1f602-3118-46ce-be46-0a5cd436e071",
   "metadata": {},
   "outputs": [],
   "source": [
    "# Confusion Metrics\n",
    "print(\"Confusion Metrics:\", confusion_matrix(y_test, y_pred2))"
   ]
  },
  {
   "cell_type": "code",
   "execution_count": null,
   "id": "99e77214-c410-4aca-b084-c2583a847c13",
   "metadata": {},
   "outputs": [],
   "source": [
    "# Recall & Precision\n",
    "print(\"Recall:\", metrics.recall_score(y_test, y_pred2, average=\"micro\"))\n",
    "print(\"Precision Score:\", metrics.precision_score(y_test, y_pred2, average=\"micro\"))"
   ]
  },
  {
   "cell_type": "code",
   "execution_count": null,
   "id": "5dc82f35-f1ae-40e4-919d-acb06f12ceb3",
   "metadata": {},
   "outputs": [],
   "source": [
    "# Calculate the Accuracy Score.\n",
    "rf = accuracy_score(y_test, y_pred2)\n",
    "print(rf)"
   ]
  },
  {
   "cell_type": "markdown",
   "id": "50a7df2c-c915-40c8-bd7f-5c2d40aad775",
   "metadata": {
    "tags": []
   },
   "source": [
    "### k Nearest Neighbors Model"
   ]
  },
  {
   "cell_type": "code",
   "execution_count": null,
   "id": "abc0bcb2-c180-465f-b92e-549f22834c32",
   "metadata": {},
   "outputs": [],
   "source": [
    "# Model Object\n",
    "model3 = KNeighborsClassifier(n_neighbors=9, leaf_size=20)"
   ]
  },
  {
   "cell_type": "code",
   "execution_count": null,
   "id": "2f0ae940-3e2b-491c-a8f4-6763193eec8f",
   "metadata": {},
   "outputs": [],
   "source": [
    "# Train the model\n",
    "model3.fit(x_train,y_train)"
   ]
  },
  {
   "cell_type": "code",
   "execution_count": null,
   "id": "12e1cd5a-9cbe-4a11-876e-bc1347a38523",
   "metadata": {},
   "outputs": [],
   "source": [
    "# Prediction on Test\n",
    "y_pred3=model3.predict(x_test)"
   ]
  },
  {
   "cell_type": "code",
   "execution_count": null,
   "id": "812dd5c2-89d5-491a-a230-abd488c0ba6c",
   "metadata": {},
   "outputs": [],
   "source": [
    "# Classification Report\n",
    "print(\"Classification Report:\", classification_report(y_test, y_pred3))"
   ]
  },
  {
   "cell_type": "code",
   "execution_count": null,
   "id": "fde7d0ea-b5b5-4998-a484-1c15e3b2cc04",
   "metadata": {},
   "outputs": [],
   "source": [
    "# Confusion Metrics\n",
    "print(\"Confusion Metrics:\", confusion_matrix(y_test, y_pred3))"
   ]
  },
  {
   "cell_type": "code",
   "execution_count": null,
   "id": "517466df-ab58-462d-88f2-e7605051e1a5",
   "metadata": {},
   "outputs": [],
   "source": [
    "# Recall & Precision\n",
    "print(\"Recall:\", metrics.recall_score(y_test, y_pred3, average=\"micro\"))\n",
    "print(\"Precision Score:\", metrics.precision_score(y_test, y_pred3, average=\"micro\"))"
   ]
  },
  {
   "cell_type": "code",
   "execution_count": null,
   "id": "9b63d2a5-40db-4c81-b3bb-2b830e720a1e",
   "metadata": {},
   "outputs": [],
   "source": [
    "# Calculate the Accuracy Score.\n",
    "knn = accuracy_score(y_test, y_pred3)\n",
    "print(knn)"
   ]
  },
  {
   "cell_type": "code",
   "execution_count": null,
   "id": "122c7ebc-3479-4a2e-9a19-4dc22dd9589b",
   "metadata": {},
   "outputs": [],
   "source": []
  },
  {
   "cell_type": "code",
   "execution_count": null,
   "id": "3ffabc89-d07b-4d81-98b8-69d24242995b",
   "metadata": {},
   "outputs": [],
   "source": [
    "# Accuracy Scores based on Models\n",
    "models = pd.DataFrame({\n",
    "    'Model':['Logistic Regression', 'Random Forest', 'KNeighbours'],\n",
    "    'Accuracy_score' :[lr, rf, knn]\n",
    "})\n",
    "\n",
    "models"
   ]
  }
 ],
 "metadata": {
  "kernelspec": {
   "display_name": "Python 3 (ipykernel)",
   "language": "python",
   "name": "python3"
  },
  "language_info": {
   "codemirror_mode": {
    "name": "ipython",
    "version": 3
   },
   "file_extension": ".py",
   "mimetype": "text/x-python",
   "name": "python",
   "nbconvert_exporter": "python",
   "pygments_lexer": "ipython3",
   "version": "3.9.6"
  }
 },
 "nbformat": 4,
 "nbformat_minor": 5
}
